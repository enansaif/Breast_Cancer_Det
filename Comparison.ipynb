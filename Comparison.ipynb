{
 "cells": [
  {
   "cell_type": "code",
   "execution_count": 1,
   "metadata": {},
   "outputs": [],
   "source": [
    "import torch\n",
    "from torch import nn\n",
    "from tqdm.auto import tqdm\n",
    "from torchvision import models\n",
    "from torchvision import datasets \n",
    "from torch.utils.data import DataLoader\n",
    "from torchvision.transforms import transforms"
   ]
  },
  {
   "cell_type": "code",
   "execution_count": 2,
   "metadata": {},
   "outputs": [],
   "source": [
    "trans1=transforms.Compose([transforms.Resize((227,227)),transforms.ToTensor()])\n",
    "trans2=transforms.Compose([transforms.Resize((224,224)),transforms.ToTensor()])\n",
    "dataset1=datasets.ImageFolder(\"F:\\BreastCancer_DataSet_Val\",transform=trans1)\n",
    "dataset2=datasets.ImageFolder(\"F:\\BreastCancer_DataSet_Val\",transform=trans2)\n",
    "data1=DataLoader(dataset1,batch_size=512,shuffle=True) #AlexNet accept 227x227 images\n",
    "data2=DataLoader(dataset2,batch_size=128,shuffle=True) #VGG-16, GoogLenet accept 224x224 images"
   ]
  },
  {
   "cell_type": "code",
   "execution_count": 3,
   "metadata": {},
   "outputs": [],
   "source": [
    "alexnet=models.alexnet(pretrained=True)\n",
    "for param in alexnet.parameters():\n",
    "    param.requires_grad=False     #to stop training of the first few layers\n",
    "alexnet.classifier=nn.Sequential(nn.Linear(9216,2),nn.Sigmoid()) #only trainable layer\n",
    "\n",
    "vgg16=models.vgg16(pretrained=True)\n",
    "for param in vgg16.parameters():\n",
    "    param.requires_grad=False\n",
    "vgg16.classifier=nn.Sequential(nn.Linear(25088,2),nn.Sigmoid())\n",
    "\n",
    "googlenet=models.googlenet(pretrained=True)\n",
    "for param in googlenet.parameters():\n",
    "    param.requires_grad=False\n",
    "googlenet.fc=nn.Sequential(nn.Linear(1024,2),nn.Sigmoid())"
   ]
  },
  {
   "cell_type": "code",
   "execution_count": 4,
   "metadata": {},
   "outputs": [],
   "source": [
    "epoch=1\n",
    "criterion=nn.CrossEntropyLoss()\n",
    "optimizer=torch.optim.Adam(alexnet.parameters(),lr=.001)\n",
    "\n",
    "def accuracy(data,model):\n",
    "    correct=0\n",
    "    total=0\n",
    "    model.eval()\n",
    "    with torch.no_grad():\n",
    "        for images,labels in tqdm(data):\n",
    "            preds=model(images)\n",
    "            values,index=preds.max(1)\n",
    "            correct+=(index==labels).sum()\n",
    "            total+=preds.size(0)\n",
    "            acc=correct/total\n",
    "        print('accuracy',acc.item()*100,'%')\n",
    "\n",
    "def train_network(data,model):\n",
    "    for e in range(epoch):\n",
    "        for images,labels in tqdm(data):\n",
    "            preds=model(images)\n",
    "            loss=criterion(preds,labels)\n",
    "            optimizer.zero_grad()\n",
    "            loss.backward()\n",
    "            optimizer.step()\n",
    "    accuracy(data,model)"
   ]
  },
  {
   "cell_type": "code",
   "execution_count": 5,
   "metadata": {},
   "outputs": [
    {
     "data": {
      "application/vnd.jupyter.widget-view+json": {
       "model_id": "cb06da8537ce48b88a4ab7c4c304ccf0",
       "version_major": 2,
       "version_minor": 0
      },
      "text/plain": [
       "HBox(children=(FloatProgress(value=0.0, max=10.0), HTML(value='')))"
      ]
     },
     "metadata": {},
     "output_type": "display_data"
    },
    {
     "name": "stdout",
     "output_type": "stream",
     "text": [
      "\n"
     ]
    },
    {
     "data": {
      "application/vnd.jupyter.widget-view+json": {
       "model_id": "1ad6cf6406364f05ad0adb44b79c03ab",
       "version_major": 2,
       "version_minor": 0
      },
      "text/plain": [
       "HBox(children=(FloatProgress(value=0.0, max=10.0), HTML(value='')))"
      ]
     },
     "metadata": {},
     "output_type": "display_data"
    },
    {
     "name": "stdout",
     "output_type": "stream",
     "text": [
      "\n",
      "accuracy 87.63672113418579 %\n"
     ]
    }
   ],
   "source": [
    "train_network(data1,alexnet)"
   ]
  },
  {
   "cell_type": "code",
   "execution_count": 6,
   "metadata": {},
   "outputs": [
    {
     "data": {
      "application/vnd.jupyter.widget-view+json": {
       "model_id": "1125f57dc5754500ad5d7ea5882d4dc1",
       "version_major": 2,
       "version_minor": 0
      },
      "text/plain": [
       "HBox(children=(FloatProgress(value=0.0, max=40.0), HTML(value='')))"
      ]
     },
     "metadata": {},
     "output_type": "display_data"
    },
    {
     "name": "stdout",
     "output_type": "stream",
     "text": [
      "\n"
     ]
    },
    {
     "data": {
      "application/vnd.jupyter.widget-view+json": {
       "model_id": "7d48b3c7fae34b6a91653dc833e63d3d",
       "version_major": 2,
       "version_minor": 0
      },
      "text/plain": [
       "HBox(children=(FloatProgress(value=0.0, max=40.0), HTML(value='')))"
      ]
     },
     "metadata": {},
     "output_type": "display_data"
    },
    {
     "name": "stdout",
     "output_type": "stream",
     "text": [
      "\n",
      "accuracy 49.94140565395355 %\n"
     ]
    }
   ],
   "source": [
    "train_network(data2,vgg16)"
   ]
  },
  {
   "cell_type": "code",
   "execution_count": 7,
   "metadata": {},
   "outputs": [
    {
     "data": {
      "application/vnd.jupyter.widget-view+json": {
       "model_id": "7c856677e81143dfa21bf5007d5847d1",
       "version_major": 2,
       "version_minor": 0
      },
      "text/plain": [
       "HBox(children=(FloatProgress(value=0.0, max=40.0), HTML(value='')))"
      ]
     },
     "metadata": {},
     "output_type": "display_data"
    },
    {
     "name": "stdout",
     "output_type": "stream",
     "text": [
      "\n"
     ]
    },
    {
     "data": {
      "application/vnd.jupyter.widget-view+json": {
       "model_id": "58ceb5e7fb20400da5e432447752162f",
       "version_major": 2,
       "version_minor": 0
      },
      "text/plain": [
       "HBox(children=(FloatProgress(value=0.0, max=40.0), HTML(value='')))"
      ]
     },
     "metadata": {},
     "output_type": "display_data"
    },
    {
     "name": "stdout",
     "output_type": "stream",
     "text": [
      "\n",
      "accuracy 63.749998807907104 %\n"
     ]
    }
   ],
   "source": [
    "train_network(data2,googlenet)"
   ]
  }
 ],
 "metadata": {
  "kernelspec": {
   "display_name": "Python 3",
   "language": "python",
   "name": "python3"
  },
  "language_info": {
   "codemirror_mode": {
    "name": "ipython",
    "version": 3
   },
   "file_extension": ".py",
   "mimetype": "text/x-python",
   "name": "python",
   "nbconvert_exporter": "python",
   "pygments_lexer": "ipython3",
   "version": "3.8.3"
  }
 },
 "nbformat": 4,
 "nbformat_minor": 4
}
