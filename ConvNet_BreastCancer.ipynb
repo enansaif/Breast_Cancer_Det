{
 "cells": [
  {
   "cell_type": "code",
   "execution_count": 1,
   "metadata": {},
   "outputs": [],
   "source": [
    "import os\n",
    "import torch\n",
    "from torch import nn\n",
    "from tqdm.auto import tqdm\n",
    "from torchvision import models\n",
    "from torchvision import datasets \n",
    "from torch.utils.data import DataLoader\n",
    "from torchvision.transforms import transforms\n",
    "import matplotlib.pyplot as plt\n",
    "os.environ['KMP_DUPLICATE_LIB_OK']=\"True\""
   ]
  },
  {
   "cell_type": "code",
   "execution_count": 2,
   "metadata": {},
   "outputs": [],
   "source": [
    "class CNNModel(nn.Module):\n",
    "    def __init__(self,in_ch,num_cl,hidden_ch=64):\n",
    "        super(CNNModel,self).__init__()\n",
    "        self.Model=nn.Sequential(\n",
    "        self.block(in_ch,hidden_ch,final=False),\n",
    "        self.block(hidden_ch,hidden_ch,final=False),\n",
    "        nn.MaxPool2d(2,2),\n",
    "        self.block(hidden_ch,hidden_ch,final=False),\n",
    "        nn.MaxPool2d(2,2),\n",
    "        self.block(hidden_ch,num_cl,final=True)\n",
    "        )\n",
    "        \n",
    "    def block(self,in_ch,out_ch,final):           \n",
    "        if not final:\n",
    "            return nn.Sequential(\n",
    "            nn.Conv2d(in_ch,out_ch,kernel_size=5,stride=1,padding=2),\n",
    "            nn.BatchNorm2d(out_ch),\n",
    "            nn.ReLU()\n",
    "            )\n",
    "        else:\n",
    "            return nn.Sequential(\n",
    "            nn.Conv2d(in_ch,out_ch,kernel_size=12,stride=1,padding=0),\n",
    "            nn.Sigmoid()\n",
    "            )\n",
    "    def forward(self,x):\n",
    "        x=self.Model(x)\n",
    "        return x.reshape(x.shape[0],-1)"
   ]
  },
  {
   "cell_type": "code",
   "execution_count": 3,
   "metadata": {},
   "outputs": [
    {
     "name": "stdout",
     "output_type": "stream",
     "text": [
      "torch.Size([10, 2])\n"
     ]
    }
   ],
   "source": [
    "x=torch.randn(10,3,50,50)\n",
    "model=CNNModel(3,2)\n",
    "print(model(x).shape)"
   ]
  },
  {
   "cell_type": "code",
   "execution_count": 4,
   "metadata": {},
   "outputs": [
    {
     "name": "stdout",
     "output_type": "stream",
     "text": [
      "Dataset ImageFolder\n",
      "    Number of datapoints: 6350\n",
      "    Root location: F:\\BreastCancer_DataSet\n",
      "    StandardTransform\n",
      "Transform: Compose(\n",
      "               RandomRotation(degrees=[-45.0, 45.0], resample=False, expand=False)\n",
      "               RandomHorizontalFlip(p=0.5)\n",
      "               RandomVerticalFlip(p=0.5)\n",
      "               ToTensor()\n",
      "           )\n"
     ]
    }
   ],
   "source": [
    "custom_transforms=transforms.Compose([              #data augmentation \n",
    "    transforms.RandomRotation(degrees=45),\n",
    "    transforms.RandomHorizontalFlip(),\n",
    "    transforms.RandomVerticalFlip(),\n",
    "    transforms.ToTensor()])\n",
    "\n",
    "dataset=datasets.ImageFolder(\"F:\\BreastCancer_DataSet\",transform=custom_transforms) \n",
    "data=DataLoader(dataset,batch_size=64,shuffle=True)                #training set\n",
    "print(dataset)\n",
    "dataset1=datasets.ImageFolder(\"F:\\BreastCancer_DataSet_test\",transform=transforms.ToTensor())\n",
    "data1=DataLoader(dataset1,batch_size=64,shuffle=True)              #test_set"
   ]
  },
  {
   "cell_type": "code",
   "execution_count": 5,
   "metadata": {},
   "outputs": [],
   "source": [
    "epoch=1\n",
    "criterion=nn.CrossEntropyLoss()\n",
    "optimizer=torch.optim.Adam(model.parameters(),lr=.001)\n",
    "model.load_state_dict(torch.load(r\"F:\\weights_94.txt\")) #for loading already trained model weights\n",
    "\n",
    "def train_network(data,model):\n",
    "    losses=[]\n",
    "    a=[]\n",
    "    for e in range(epoch):\n",
    "        for images,labels in tqdm(data):\n",
    "            preds=model(images)\n",
    "            loss=criterion(preds,labels)\n",
    "            optimizer.zero_grad()\n",
    "            loss.backward()\n",
    "            optimizer.step()\n",
    "    torch.save(model.state_dict(), r\"F:\\weights.txt\") #for saving state dictionary\n",
    "\n",
    "def accuracy(data,model):\n",
    "    correct=0\n",
    "    total=0\n",
    "    accuracy=[]\n",
    "    model.eval()\n",
    "    with torch.no_grad():\n",
    "        for images,labels in tqdm(data):\n",
    "            preds=model(images)\n",
    "            values,index=preds.max(1)\n",
    "            correct+=(index==labels).sum()\n",
    "            total+=preds.size(0)\n",
    "            acc=correct/total\n",
    "    return acc.item()\n",
    "\n",
    "def confusion_matrix(data,model):\n",
    "    model.eval()\n",
    "    indexes=torch.tensor([])\n",
    "    labels=torch.tensor([])\n",
    "    with torch.no_grad():\n",
    "        for image,label in data:\n",
    "            preds=model(image)\n",
    "            values,index=preds.max(1)\n",
    "            indexes=torch.cat((indexes,index),dim=0).int()\n",
    "            labels=torch.cat((labels,label),dim=0).int()\n",
    "            \n",
    "        stacked=torch.stack((labels,indexes),dim=1)\n",
    "        confusion=torch.zeros(2,2,dtype=torch.int32)\n",
    "        \n",
    "        for i in stacked:\n",
    "            true,pred=i.tolist()\n",
    "            confusion[true,pred]+=1\n",
    "        print(confusion)"
   ]
  },
  {
   "cell_type": "code",
   "execution_count": 6,
   "metadata": {
    "scrolled": true
   },
   "outputs": [],
   "source": [
    "#train_network(data,model) "
   ]
  },
  {
   "cell_type": "code",
   "execution_count": 7,
   "metadata": {},
   "outputs": [
    {
     "data": {
      "application/vnd.jupyter.widget-view+json": {
       "model_id": "ff14cf85c00d4cfa9cdc9695c9ea2593",
       "version_major": 2,
       "version_minor": 0
      },
      "text/plain": [
       "HBox(children=(FloatProgress(value=0.0, max=11.0), HTML(value='')))"
      ]
     },
     "metadata": {},
     "output_type": "display_data"
    },
    {
     "name": "stdout",
     "output_type": "stream",
     "text": [
      "\n"
     ]
    },
    {
     "data": {
      "text/plain": [
       "0.9023323655128479"
      ]
     },
     "execution_count": 7,
     "metadata": {},
     "output_type": "execute_result"
    }
   ],
   "source": [
    "accuracy(data1,model) #data1 for measuring test set accuracy"
   ]
  },
  {
   "cell_type": "code",
   "execution_count": 8,
   "metadata": {},
   "outputs": [
    {
     "name": "stdout",
     "output_type": "stream",
     "text": [
      "tensor([[3074,  210],\n",
      "        [ 176, 2890]], dtype=torch.int32)\n"
     ]
    }
   ],
   "source": [
    "confusion_matrix(data,model)"
   ]
  }
 ],
 "metadata": {
  "kernelspec": {
   "display_name": "Python 3",
   "language": "python",
   "name": "python3"
  },
  "language_info": {
   "codemirror_mode": {
    "name": "ipython",
    "version": 3
   },
   "file_extension": ".py",
   "mimetype": "text/x-python",
   "name": "python",
   "nbconvert_exporter": "python",
   "pygments_lexer": "ipython3",
   "version": "3.8.3"
  }
 },
 "nbformat": 4,
 "nbformat_minor": 4
}
